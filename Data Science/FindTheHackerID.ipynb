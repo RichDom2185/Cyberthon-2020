{
  "nbformat": 4,
  "nbformat_minor": 0,
  "metadata": {
    "colab": {
      "name": "FindTheHackerID.ipynb",
      "provenance": []
    },
    "kernelspec": {
      "name": "python3",
      "display_name": "Python 3"
    }
  },
  "cells": [
    {
      "cell_type": "code",
      "metadata": {
        "id": "xYbl5bVQiqNf",
        "colab_type": "code",
        "colab": {}
      },
      "source": [
        "# Find the Hacker ID for Cyberthon 2020\n",
        "# By richdom2185\n",
        "\n",
        "import pandas as pd\n",
        "\n",
        "# Read file\n",
        "df = pd.read_csv('portid.csv')\n",
        "df.head() # check that it is formatted correctly"
      ],
      "execution_count": 0,
      "outputs": []
    },
    {
      "cell_type": "code",
      "metadata": {
        "id": "ueNQj5Jmj5FY",
        "colab_type": "code",
        "colab": {}
      },
      "source": [
        "print('flag: Cyberthon{', end = '')\n",
        "print(df.iat[304, 576], end = '')\n",
        "print(df.iat[227, 847], end = '')\n",
        "print(df.iat[901, 284], end = '')\n",
        "print('}')"
      ],
      "execution_count": 0,
      "outputs": []
    }
  ]
}