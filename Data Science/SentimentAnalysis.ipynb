{
  "nbformat": 4,
  "nbformat_minor": 0,
  "metadata": {
    "accelerator": "GPU",
    "colab": {
      "name": "SentimentAnalysis.ipynb",
      "provenance": [],
      "collapsed_sections": [],
      "machine_shape": "hm"
    },
    "kernelspec": {
      "display_name": "Python 3",
      "language": "python",
      "name": "python3"
    },
    "language_info": {
      "codemirror_mode": {
        "name": "ipython",
        "version": 3
      },
      "file_extension": ".py",
      "mimetype": "text/x-python",
      "name": "python",
      "nbconvert_exporter": "python",
      "pygments_lexer": "ipython3",
      "version": "3.7.4"
    }
  },
  "cells": [
    {
      "cell_type": "code",
      "metadata": {
        "colab_type": "code",
        "id": "AUHHm1raOhIB",
        "colab": {}
      },
      "source": [
        "# Sentiment Analysis for Cyberthon 2020 - 74.81% Accuracy\n",
        "# By richdom2185\n",
        "\n",
        "import pandas as pd\n",
        "import numpy as np\n",
        "import re\n",
        "\n",
        "# Read the file and ensure it's formatted correctly\n",
        "df = pd.read_csv('train.csv', encoding = 'utf-8', index_col = 'id')\n",
        "df.head()"
      ],
      "execution_count": 0,
      "outputs": []
    },
    {
      "cell_type": "code",
      "metadata": {
        "colab_type": "code",
        "id": "CSqSRZLrPHEu",
        "colab": {}
      },
      "source": [
        "# Drop everything except letters, numbers and whitespaces\n",
        "df['review'] = df['review'].apply(lambda x: re.sub('[^a-zA-z0-9\\s]','',x.lower()))\n",
        "\n",
        "# Vectorise\n",
        "from sklearn.feature_extraction.text import TfidfVectorizer\n",
        "tfidf = TfidfVectorizer(sublinear_tf=True, min_df=5, norm='l2', encoding='latin-1', ngram_range=(1, 2), stop_words='english')\n",
        "features = tfidf.fit_transform(df.review).toarray()\n",
        "labels = df.rating\n",
        "features.shape"
      ],
      "execution_count": 0,
      "outputs": []
    },
    {
      "cell_type": "code",
      "metadata": {
        "id": "oeQzE3hvGvlg",
        "colab_type": "code",
        "colab": {}
      },
      "source": [
        "# YOU WILL NEED A LOT OF RAM FOR THIS (~22GB)\n",
        "# Advisable to use Google Colab -- run it once using the default 12GB RAM runtime,\n",
        "# Colab will crash and prompt you whether you want to switch to a 25GB RAM runtime,\n",
        "# and just like that you effectively doubled your RAM :)\n",
        "\n",
        "# Creates and fits model to training dataset\n",
        "from sklearn.model_selection import train_test_split\n",
        "from sklearn.feature_extraction.text import CountVectorizer\n",
        "from sklearn.feature_extraction.text import TfidfTransformer\n",
        "from sklearn.naive_bayes import MultinomialNB\n",
        "X_train, X_test, y_train, y_test = train_test_split(df['review'], df['rating'], random_state = 0)\n",
        "count_vect = CountVectorizer()\n",
        "X_train_counts = count_vect.fit_transform(X_train)\n",
        "tfidf_transformer = TfidfTransformer()\n",
        "X_train_tfidf = tfidf_transformer.fit_transform(X_train_counts)\n",
        "clf = MultinomialNB().fit(X_train_tfidf, y_train)"
      ],
      "execution_count": 0,
      "outputs": []
    },
    {
      "cell_type": "code",
      "metadata": {
        "id": "FQj1XGhBxJqz",
        "colab_type": "code",
        "colab": {}
      },
      "source": [
        "# Save model in the event of a crash\n",
        "import pickle, time\n",
        "filename = 'clf_model-{:.3f}.pickle'.format(time.time()) # time.time() prevents overwriting of different models\n",
        "pickle.dump(clf, open(filename, 'wb'))\n",
        "print('Saved model to disk')"
      ],
      "execution_count": 0,
      "outputs": []
    },
    {
      "cell_type": "code",
      "metadata": {
        "id": "wy113eYOLWdb",
        "colab_type": "code",
        "colab": {}
      },
      "source": [
        "# Load model\n",
        "import pickle\n",
        "clf = pickle.load(open(filename, 'rb'))\n",
        "print('Loaded model from disk')"
      ],
      "execution_count": 0,
      "outputs": []
    },
    {
      "cell_type": "code",
      "metadata": {
        "id": "LN4ePmfg_qva",
        "colab_type": "code",
        "colab": {}
      },
      "source": [
        "# To manually test -- optional to run\n",
        "clf.predict(count_vect.transform([\"It was a really interesting course! Some exercises were challenging but it was very rewarding when you found the solution.\"]))"
      ],
      "execution_count": 0,
      "outputs": []
    },
    {
      "cell_type": "code",
      "metadata": {
        "id": "KpS-_4wxJMZw",
        "colab_type": "code",
        "colab": {}
      },
      "source": [
        "# Read file and ensures that it is correctly formatted\n",
        "df_pred = pd.read_csv('test.csv', encoding='utf-8')\n",
        "df_pred.head()\n",
        "\n",
        "# Applies same preprocessing as training set\n",
        "df_pred['review'] = df_pred['review'].apply(lambda x: re.sub('[^a-zA-z0-9\\s]','',x.lower()))\n",
        "print(df_pred['review'].values) # for checking that it is correctly formatted"
      ],
      "execution_count": 0,
      "outputs": []
    },
    {
      "cell_type": "code",
      "metadata": {
        "colab_type": "code",
        "id": "s1PzdrEkQYY_",
        "colab": {}
      },
      "source": [
        "# Predicts ratings\n",
        "y_pred = clf.predict(count_vect.transform(df_pred['review'].values))\n",
        "print('Predictions:', y_pred)"
      ],
      "execution_count": 0,
      "outputs": []
    },
    {
      "cell_type": "code",
      "metadata": {
        "colab_type": "code",
        "id": "a0HRzyx9QrFu",
        "colab": {}
      },
      "source": [
        "# Convert to CSV\n",
        "output = pd.DataFrame({'id': df_pred.id, 'rating': y_pred})\n",
        "output.to_csv('sentiment-analysis-submission.csv', index=False)"
      ],
      "execution_count": 0,
      "outputs": []
    },
    {
      "cell_type": "code",
      "metadata": {
        "id": "1ok2O227QPxM",
        "colab_type": "code",
        "colab": {}
      },
      "source": [
        "# Submit to CTFSG Grader\n",
        "import urllib.request, os\n",
        "urllib.request.urlretrieve('https://raw.githubusercontent.com/alttablabs/ctfsg-utils/master/pyctfsglib.py', './pyctfsglib.py')\n",
        "print('Downloaded pyctfsglib.py:', 'pyctfsglib.py' in os.listdir())\n",
        "\n",
        "import pyctfsglib as ctfsg\n",
        "import random\n",
        "\n",
        "USER_TOKEN = \"REDACTED\" # You need to fill this up\n",
        "GRADER_URL = random.choice([\n",
        "\"http://challenges.csdc20t.ctf.sg:30011/\",\n",
        "\"http://challenges.csdc20t.ctf.sg:30012/\"\n",
        "])\n",
        "\n",
        "grader = ctfsg.DSGraderClient(GRADER_URL, USER_TOKEN)\n",
        "\n",
        "# Submitting a file\n",
        "grader.submitFile('./sentiment-analysis-submission.csv')"
      ],
      "execution_count": 0,
      "outputs": []
    }
  ]
}