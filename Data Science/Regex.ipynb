{
  "nbformat": 4,
  "nbformat_minor": 0,
  "metadata": {
    "kernelspec": {
      "display_name": "Python 3",
      "language": "python",
      "name": "python3"
    },
    "language_info": {
      "codemirror_mode": {
        "name": "ipython",
        "version": 3
      },
      "file_extension": ".py",
      "mimetype": "text/x-python",
      "name": "python",
      "nbconvert_exporter": "python",
      "pygments_lexer": "ipython3",
      "version": "3.7.4"
    },
    "colab": {
      "name": "Regex.ipynb",
      "provenance": []
    }
  },
  "cells": [
    {
      "cell_type": "code",
      "metadata": {
        "id": "W33ABqonurPt",
        "colab_type": "code",
        "colab": {}
      },
      "source": [
        "# Regex for Cyberthon 2020\n",
        "# By richdom2185\n",
        "\n",
        "import sys\n",
        "import re\n",
        "import hashlib"
      ],
      "execution_count": 0,
      "outputs": []
    },
    {
      "cell_type": "code",
      "metadata": {
        "id": "G5uzOoKpW8ik",
        "colab_type": "code",
        "colab": {}
      },
      "source": [
        "# Process each line using Regex\n",
        "answers = \"\"\n",
        "for line in open('rockyou_processed.txt').readlines():\n",
        "    line = line.rstrip(\"\\n\")\n",
        "    if re.match(\"^[A-Za-z]+$\", line): # Alphabets only\n",
        "        answers += \"1\\n\"\n",
        "    elif re.match(\"^[0-9]+$\", line): # Numbers only\n",
        "        answers += \"2\\n\"\n",
        "    elif re.match(\"^[A-Za-z]+[0-9]+$\", line): # Alphabets then numbers\n",
        "        answers += \"3\\n\"\n",
        "    else: # Everything else\n",
        "        answers += \"4\\n\"\n",
        "\n",
        "print('flag: CTFSG{' + hashlib.sha256(answers.encode('utf-8')).hexdigest() + '}')"
      ],
      "execution_count": 0,
      "outputs": []
    }
  ]
}