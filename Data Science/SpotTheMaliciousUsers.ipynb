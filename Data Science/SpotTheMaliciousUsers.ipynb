{
  "nbformat": 4,
  "nbformat_minor": 0,
  "metadata": {
    "colab": {
      "name": "SpotTheMaliciousUsers.ipynb",
      "provenance": []
    },
    "kernelspec": {
      "name": "python3",
      "display_name": "Python 3"
    }
  },
  "cells": [
    {
      "cell_type": "code",
      "metadata": {
        "id": "qm7sq04_UG-x",
        "colab_type": "code",
        "colab": {}
      },
      "source": [
        "# Spot the Malicious Users for Cyberthon 2020 - 86.47% Accuracy\n",
        "# By richdom2185\n",
        "\n",
        "import pandas as pd\n",
        "\n",
        "# Read file and check that it is formatted correctly\n",
        "df = pd.read_csv('global_internet_users_activity.csv', index_col = 'id')\n",
        "df.head()"
      ],
      "execution_count": 0,
      "outputs": []
    },
    {
      "cell_type": "code",
      "metadata": {
        "id": "9SzEc5gRVPeo",
        "colab_type": "code",
        "colab": {}
      },
      "source": [
        "# Drops missing values \n",
        "df.dropna()\n",
        "\n",
        "# Define features, X, y\n",
        "features = ['CPU Usage', 'Memory Usage', 'Running Time']\n",
        "X = df[features]\n",
        "y = df['Normal User']"
      ],
      "execution_count": 0,
      "outputs": []
    },
    {
      "cell_type": "code",
      "metadata": {
        "id": "fqOKklXUVwN6",
        "colab_type": "code",
        "colab": {}
      },
      "source": [
        "from sklearn import *\n",
        "\n",
        "model = ensemble.RandomForestRegressor(random_state=2020, n_estimators=100)\n",
        "\n",
        "# Split data into training and validation sets\n",
        "X_train, X_valid, y_train, y_valid = model_selection.train_test_split(X, y, test_size=0.1)\n",
        "print(\"training: \", len(X_train), \"; test: \", len(X_valid))"
      ],
      "execution_count": 0,
      "outputs": []
    },
    {
      "cell_type": "code",
      "metadata": {
        "id": "lD5tq8gbWAlH",
        "colab_type": "code",
        "colab": {}
      },
      "source": [
        "# Fit the model and check accuracy against validation set\n",
        "model.fit(X_train, y_train)\n",
        "model.score(X_valid, y_valid)"
      ],
      "execution_count": 0,
      "outputs": []
    },
    {
      "cell_type": "code",
      "metadata": {
        "id": "b7Gq289IWM_m",
        "colab_type": "code",
        "colab": {}
      },
      "source": [
        "# Read test set\n",
        "df_test = pd.read_csv('shopping_baba_users_activity.csv', index_col = 'id')\n",
        "XforPredictions = df_test[features]\n",
        "XforPredictions.head()\n",
        "\n",
        "# Predict\n",
        "yPredictions = model.predict(XforPredictions)\n",
        "yPredictions = [1 if i >= 0.5 else 0 for i in yPredictions] # round to nearest integer\n",
        "print(\"Predictions:\", yPredictions)"
      ],
      "execution_count": 0,
      "outputs": []
    },
    {
      "cell_type": "code",
      "metadata": {
        "id": "KqeY99i_UMav",
        "colab_type": "code",
        "colab": {}
      },
      "source": [
        "# Convert to CSV\n",
        "output = pd.DataFrame({'id': [i for i in range(len(yPredictions))], 'Prediction': yPredictions})\n",
        "output.to_csv('predictions.csv', index=False)"
      ],
      "execution_count": 0,
      "outputs": []
    },
    {
      "cell_type": "code",
      "metadata": {
        "id": "HBgwDr1dsnjk",
        "colab_type": "code",
        "colab": {}
      },
      "source": [
        "# Submit to CTFSG Grader\n",
        "import urllib.request, os\n",
        "urllib.request.urlretrieve('https://raw.githubusercontent.com/alttablabs/ctfsg-utils/master/pyctfsglib.py', './pyctfsglib.py')\n",
        "print('Downloaded pyctfsglib.py:', 'pyctfsglib.py' in os.listdir())\n",
        "\n",
        "import pyctfsglib as ctfsg\n",
        "import random\n",
        "\n",
        "USER_TOKEN = \"REDACTED\" # You need to fill this up\n",
        "GRADER_URL = random.choice([\n",
        "\"http://p7ju6oidw6ayykt9zeglwyxired60yct.ctf.sg:31001/\",\n",
        "\"http://p7ju6oidw6ayykt9zeglwyxired60yct.ctf.sg:31002/\"\n",
        "])\n",
        "\n",
        "grader = ctfsg.DSGraderClient(GRADER_URL, USER_TOKEN)\n",
        "\n",
        "# Submitting a file\n",
        "grader.submitFile('./predictions.csv')"
      ],
      "execution_count": 0,
      "outputs": []
    }
  ]
}