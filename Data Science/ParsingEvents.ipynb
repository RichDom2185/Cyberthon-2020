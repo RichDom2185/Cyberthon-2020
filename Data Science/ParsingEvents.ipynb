{
  "nbformat": 4,
  "nbformat_minor": 0,
  "metadata": {
    "colab": {
      "name": "ParsingEvents.ipynb",
      "provenance": []
    },
    "kernelspec": {
      "name": "python3",
      "display_name": "Python 3"
    }
  },
  "cells": [
    {
      "cell_type": "code",
      "metadata": {
        "id": "0_HtDdbTpe61",
        "colab_type": "code",
        "colab": {}
      },
      "source": [
        "# Parsing Events for Cyberthon 2020 - 100% Accuracy\n",
        "# By richdom2185\n",
        "\n",
        "import pandas as pd\n",
        "\n",
        "# Open files and read through the lines\n",
        "with open('logs.txt', encoding='utf-8') as logs:\n",
        "  logs_read = logs.readlines()\n",
        "with open('questions.txt', encoding='utf-8') as qns:\n",
        "  qns__read = qns.readlines()\n",
        "\n",
        "# Drop the '\\n' character at the end of each line\n",
        "logs_read = [line[:-1] for line in logs_read]\n",
        "qns__read = [line[:-1] for line in qns__read]"
      ],
      "execution_count": 0,
      "outputs": []
    },
    {
      "cell_type": "code",
      "metadata": {
        "id": "rsAoRDUAppdK",
        "colab_type": "code",
        "colab": {}
      },
      "source": [
        "# Convert array of lines to array of dict with standard format for each log item\n",
        "# when = date + time\n",
        "# sender = from\n",
        "# receiver = to\n",
        "logs_data = []\n",
        "for (ind, line) in enumerate(logs_read):\n",
        "  line_split = line.split(' ') # Separates words\n",
        "  # Do stuff based on the line length (hard-coding)\n",
        "  if len(line_split) == 8:\n",
        "    when = line_split[1] + ' ' + line_split[2][:-1] # drop the ',' after the time\n",
        "    sender = line_split[3]\n",
        "    receiver = line_split[7][:-1] # drop the '.' after the receiver address\n",
        "  elif len(line_split) == 10:\n",
        "    if line_split[3] == 'to':\n",
        "      when = line_split[8] + ' ' + line_split[9][:-1] # drop the '.'\n",
        "      sender = line_split[6]\n",
        "      receiver = line_split[4]\n",
        "    elif line_split[3] == 'at':\n",
        "      when = line_split[4] + ' ' + line_split[5]\n",
        "      if line_split[6] == 'to':\n",
        "        sender = line_split[9][:-1] # drop the '.'\n",
        "        receiver = line_split[7]\n",
        "      elif line_split[6] == 'by':\n",
        "        sender = line_split[7]\n",
        "        receiver = line_split[9][:-1] # drop the '.'\n",
        "      else:\n",
        "        print(line) # to check that all the possible cases have been accounted for\n",
        "    else:\n",
        "      print(line) # to check that all the possible cases have been accounted for\n",
        "  elif len(line_split) == 9:\n",
        "    when = line_split[1] + ' ' + line_split[2][:-1] # drop the ',' after the time\n",
        "    sender = line_split[8][:-1] # drop the '.'\n",
        "    receiver = line_split[3]\n",
        "  else:\n",
        "    print(line) # to check that all the possible cases have been accounted for\n",
        "  logs_data.append({'line': ind, 'message': line.split('\"')[1], 'from' : sender, 'to': receiver, 'time': when})"
      ],
      "execution_count": 0,
      "outputs": []
    },
    {
      "cell_type": "code",
      "metadata": {
        "id": "x10FMumYsTe-",
        "colab_type": "code",
        "colab": {}
      },
      "source": [
        "from pprint import pprint\n",
        "pprint(logs_data[:10])"
      ],
      "execution_count": 0,
      "outputs": []
    },
    {
      "cell_type": "code",
      "metadata": {
        "id": "QtCFMpH02GcN",
        "colab_type": "code",
        "colab": {}
      },
      "source": [
        "for check in logs_data[:10]:\n",
        "  print(check['from'])"
      ],
      "execution_count": 0,
      "outputs": []
    },
    {
      "cell_type": "code",
      "metadata": {
        "id": "XfC3HbkL3h3J",
        "colab_type": "code",
        "colab": {}
      },
      "source": [
        "print(logs_data[46141]) # to check random entries + for troubleshooting"
      ],
      "execution_count": 0,
      "outputs": []
    },
    {
      "cell_type": "code",
      "metadata": {
        "id": "o-7hCIsZvxe0",
        "colab_type": "code",
        "colab": {}
      },
      "source": [
        "# create empty array of len 5000 so that we can track which questions have been answered\n",
        "# this is in contrast to using answers.append just in case the program is not coded correctly and it picks up more than 1\n",
        "# or less than 1 answer to each question, messing up the index\n",
        "answers = ['']*5000\n",
        "\n",
        "for (ind, line) in enumerate(qns__read):\n",
        "  line_split = line[:-1].split(' ') # drops '?' at the end of the question and separates into words\n",
        "  # more hard-coding\n",
        "  if line_split[0] == 'What':\n",
        "    if len(line_split) == 7:\n",
        "      for check in logs_data:\n",
        "        if check['from'] == line_split[2] and check['time'] == (line_split[5] + ' ' + line_split[6]):\n",
        "          answers[ind] = check['message']\n",
        "          #print('found answer {} for question {}'.format(answers[ind], ind))\n",
        "    elif len(line_split) == 9:\n",
        "      for check in logs_data:\n",
        "        if check['from'] == line_split[2] and check['time'] == (line_split[5] + ' ' + line_split[6]) and check['to'] == line_split[8]:\n",
        "          answers[ind] = check['message']\n",
        "          #print('found answer {} for question {}'.format(answers[ind], ind))\n",
        "  elif line_split[0] == 'Who':\n",
        "    if len(line_split) == 6:\n",
        "      for check in logs_data:\n",
        "        if check['from'] == line_split[2] and check['message'] == line_split[4][1:-1]: # drops the '\"' surrounding the message\n",
        "          answers[ind] = check['to']\n",
        "          #print('found answer {} for question {}'.format(answers[ind], ind))\n",
        "    elif len(line_split) == 3:\n",
        "      for check in logs_data:\n",
        "        if check['message'] == line_split[2][1:-1]: # drops the '\"' surrounding the message\n",
        "          answers[ind] = check['from']\n",
        "          #print('found answer {} for question {}'.format(answers[ind], ind))\n",
        "    elif len(line_split) == 10:\n",
        "      for check in logs_data:\n",
        "        if check['to'] == line_split[2] and check['time'] == (line_split[8] + ' ' + line_split[9]):\n",
        "          answers[ind] = check['from']\n",
        "          #print('found answer {} for question {}'.format(answers[ind], ind))\n",
        "  else:\n",
        "      print(line) # checker in case any case is missed\n",
        "print('Done!')"
      ],
      "execution_count": 0,
      "outputs": []
    },
    {
      "cell_type": "code",
      "metadata": {
        "id": "TWBqXR3L1JkV",
        "colab_type": "code",
        "colab": {}
      },
      "source": [
        "# Check for unanswered questions\n",
        "for (a, b) in enumerate(answers):\n",
        "  if b == '': print(a, end = ' ')\n",
        "print('end check')"
      ],
      "execution_count": 0,
      "outputs": []
    },
    {
      "cell_type": "code",
      "metadata": {
        "id": "rXW2vI_20uA5",
        "colab_type": "code",
        "colab": {}
      },
      "source": [
        "# Convert to CSV\n",
        "output = pd.DataFrame({'answer': answers})\n",
        "output.to_csv('events-submission.csv', index=False)"
      ],
      "execution_count": 0,
      "outputs": []
    },
    {
      "cell_type": "code",
      "metadata": {
        "id": "1dHXwQ8imFjG",
        "colab_type": "code",
        "colab": {}
      },
      "source": [
        "# Submit to CTFSG Grader\n",
        "import urllib.request, os\n",
        "urllib.request.urlretrieve('https://raw.githubusercontent.com/alttablabs/ctfsg-utils/master/pyctfsglib.py', './pyctfsglib.py')\n",
        "print('Downloaded pyctfsglib.py:', 'pyctfsglib.py' in os.listdir())\n",
        "\n",
        "import pyctfsglib as ctfsg\n",
        "import random\n",
        "\n",
        "USER_TOKEN = \"REDACTED\" # You need to fill this up\n",
        "GRADER_URL = random.choice([\n",
        "\"http://p7ju6oidw6ayykt9zeglwyxired60yct.ctf.sg:31011/\",\n",
        "\"http://p7ju6oidw6ayykt9zeglwyxired60yct.ctf.sg:31012/\"\n",
        "])\n",
        "\n",
        "grader = ctfsg.DSGraderClient(GRADER_URL, USER_TOKEN)\n",
        "\n",
        "# Submitting a file\n",
        "grader.submitFile('./events-submission.csv')"
      ],
      "execution_count": 0,
      "outputs": []
    }
  ]
}